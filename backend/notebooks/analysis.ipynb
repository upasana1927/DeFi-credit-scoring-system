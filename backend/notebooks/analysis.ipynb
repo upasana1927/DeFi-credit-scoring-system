import pandas as pd
import matplotlib.pyplot as plt
df = pd.read_csv("../output/wallet_scores.csv")
plt.hist(df['credit_score'], bins=10)
plt.title("Wallet Score Distribution")
plt.xlabel("Score Range")
plt.ylabel("Number of Wallets")
plt.grid(True)
plt.show()
